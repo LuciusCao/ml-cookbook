{
 "cells": [
  {
   "cell_type": "code",
   "execution_count": 1,
   "metadata": {},
   "outputs": [],
   "source": [
    "from sklearn.linear_model import LogisticRegression\n",
    "from sklearn.model_selection import train_test_split\n",
    "from sklearn import datasets\n",
    "\n",
    "\n",
    "import numpy as np"
   ]
  },
  {
   "cell_type": "code",
   "execution_count": 2,
   "metadata": {},
   "outputs": [
    {
     "name": "stdout",
     "output_type": "stream",
     "text": [
      "['setosa' 'versicolor' 'virginica']\n"
     ]
    }
   ],
   "source": [
    "data = datasets.load_iris()\n",
    "print(data.target_names)\n",
    "\n",
    "X = data.data[:100]\n",
    "Y = data.target[:100]\n",
    "\n",
    "Y = Y.reshape(Y.shape[0], 1)\n",
    "\n",
    "X_train, X_test, Y_train, Y_test = train_test_split(X, Y, test_size=0.2, random_state=1)"
   ]
  },
  {
   "cell_type": "code",
   "execution_count": 3,
   "metadata": {},
   "outputs": [
    {
     "data": {
      "text/plain": [
       "array([ True,  True,  True,  True,  True,  True,  True,  True,  True,\n",
       "        True,  True,  True,  True,  True,  True,  True,  True,  True,\n",
       "        True,  True])"
      ]
     },
     "execution_count": 3,
     "metadata": {},
     "output_type": "execute_result"
    }
   ],
   "source": [
    "logistic_regression = LogisticRegression()\n",
    "logistic_regression.fit(X_train, Y_train.reshape(-1))\n",
    "logistic_regression.predict(X_test) == Y_test.reshape(-1)"
   ]
  },
  {
   "cell_type": "code",
   "execution_count": null,
   "metadata": {},
   "outputs": [],
   "source": [
    "def sigmoid(z):\n",
    "    return 1 / (1 + np.exp(-z))"
   ]
  },
  {
   "cell_type": "code",
   "execution_count": null,
   "metadata": {},
   "outputs": [],
   "source": [
    "def predict_proba(X, theta, bias):\n",
    "    z = np.dot(X, theta) + bias\n",
    "    proba = sigmoid(z)\n",
    "    return proba.reshape((len(proba), 1))"
   ]
  },
  {
   "cell_type": "code",
   "execution_count": null,
   "metadata": {},
   "outputs": [],
   "source": [
    "def cost_function(X, theta, bias, Y):\n",
    "    proba = predict_proba(X, theta, bias)\n",
    "    cost = - Y * np.log(proba) - (1 - Y) * np.log(1 - proba)\n",
    "    return np.mean(cost)"
   ]
  },
  {
   "cell_type": "code",
   "execution_count": null,
   "metadata": {},
   "outputs": [],
   "source": [
    "def gradient(X, theta, bias, Y):\n",
    "    proba = predict_proba(X, theta, bias)\n",
    "    diff = proba - Y\n",
    "    grad_theta = np.dot(X.T, diff) / len(diff)\n",
    "    #  grad_theta = np.mean(np.multiply(diff, X), axis=0, keepdims=True)\n",
    "    grad_bias = np.mean(diff)\n",
    "    return grad_theta, grad_bias"
   ]
  },
  {
   "cell_type": "code",
   "execution_count": null,
   "metadata": {},
   "outputs": [],
   "source": [
    "learning_rate = 0.3\n",
    "max_iter = 100000\n",
    "\n",
    "theta = np.zeros((X.shape[1], 1))\n",
    "bias = 0\n",
    "\n",
    "for i in range(max_iter):\n",
    "    cost = cost_function(X_train, theta, bias, Y_train)\n",
    "    grad_theta, grad_bias = gradient(X_train, theta, bias, Y_train)\n",
    "    theta -= learning_rate * grad_theta\n",
    "    bias -= learning_rate * grad_bias\n",
    "    if i % 10000 == 0:\n",
    "        print(cost)"
   ]
  },
  {
   "cell_type": "code",
   "execution_count": null,
   "metadata": {},
   "outputs": [],
   "source": []
  }
 ],
 "metadata": {
  "kernelspec": {
   "display_name": "Python 3",
   "language": "python",
   "name": "python3"
  },
  "language_info": {
   "codemirror_mode": {
    "name": "ipython",
    "version": 3
   },
   "file_extension": ".py",
   "mimetype": "text/x-python",
   "name": "python",
   "nbconvert_exporter": "python",
   "pygments_lexer": "ipython3",
   "version": "3.6.5"
  }
 },
 "nbformat": 4,
 "nbformat_minor": 2
}
