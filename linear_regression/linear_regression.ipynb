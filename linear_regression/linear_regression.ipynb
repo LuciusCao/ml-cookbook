{
 "cells": [
  {
   "cell_type": "code",
   "execution_count": 103,
   "metadata": {
    "collapsed": false,
    "deletable": true,
    "editable": true
   },
   "outputs": [],
   "source": [
    "from matplotlib import pyplot as pp\n",
    "import random\n",
    "import numpy as np\n",
    "%matplotlib inline"
   ]
  },
  {
   "cell_type": "code",
   "execution_count": 104,
   "metadata": {
    "collapsed": true,
    "deletable": true,
    "editable": true
   },
   "outputs": [],
   "source": [
    "random.seed(1)  # 使用了python自带的随机数模块，设置随机数种子，保证每次结果能够复现\n",
    "\n",
    "house_size = [random.randrange(70, 200) for i in range(10000)]  # 设置房屋尺寸为70-200平米\n",
    "distance_from_citycenter = [random.randrange(1, 30) for i in range(10000)]  # 距离市中心距离为1-30公里\n",
    "floor = [random.randrange(1, 20) for i in range(10000)]  # 楼层为1-20层楼\n",
    "\n",
    "house_price = []\n",
    "\n",
    "'''\n",
    "每平米的真实房价为5万到10万之间的一个数\n",
    "每离市中心远一公里，房价降低1万\n",
    "房屋每高一楼层房价贵10000\n",
    "'''\n",
    "\n",
    "for i in range(10000):\n",
    "    price = house_size[i] * random.randrange(5e4,10e4) + distance_from_citycenter[i] * -1e5 \\\n",
    "    + floor[i] * 1e5 + random.randrange(1, 1e6)\n",
    "    house_price.append(price)"
   ]
  },
  {
   "cell_type": "code",
   "execution_count": 105,
   "metadata": {
    "collapsed": false,
    "deletable": true,
    "editable": true
   },
   "outputs": [],
   "source": [
    "'''\n",
    "将x和y都转换成numpy的矩阵，方便运算\n",
    "'''\n",
    "\n",
    "x = [[house_size[i], distance_from_citycenter[i], floor[i]] for i in range(10000)]\n",
    "x = np.array(x)\n",
    "y = np.array(house_price)\n",
    "y = y.reshape(len(y), 1)"
   ]
  },
  {
   "cell_type": "code",
   "execution_count": 106,
   "metadata": {
    "collapsed": false,
    "deletable": true,
    "editable": true
   },
   "outputs": [],
   "source": [
    "'''\n",
    "初始化weight和bias为0\n",
    "'''\n",
    "weight = np.zeros((3, 1))\n",
    "bias = 0"
   ]
  },
  {
   "cell_type": "code",
   "execution_count": 107,
   "metadata": {
    "collapsed": true
   },
   "outputs": [],
   "source": [
    "'''\n",
    "预测函数\n",
    "'''\n",
    "\n",
    "def predict(x, weight, bias):\n",
    "    return np.dot(x, weight) + bias"
   ]
  },
  {
   "cell_type": "code",
   "execution_count": 108,
   "metadata": {
    "collapsed": true,
    "deletable": true,
    "editable": true
   },
   "outputs": [],
   "source": [
    "'''\n",
    "损失函数\n",
    "'''\n",
    "def cost_function(x, weight, bias, y):\n",
    "    y_pred = predict(x, weight, bias)\n",
    "    diff = y_pred - y\n",
    "    squared_error = np.power(diff, 2)\n",
    "    return np.sum(squared_error) / (2 * len(y))"
   ]
  },
  {
   "cell_type": "code",
   "execution_count": 110,
   "metadata": {
    "collapsed": true,
    "deletable": true,
    "editable": true
   },
   "outputs": [],
   "source": [
    "'''\n",
    "梯度函数\n",
    "'''\n",
    "def gradient(x, weight, bias, y):\n",
    "    y_pred = predict(x, weight, bias)\n",
    "    diff = y_pred - y\n",
    "    gradient_weight = (1 / len(y)) * x.T.dot(diff)\n",
    "    gradient_bias = (1 / len(y)) * np.sum(diff)\n",
    "    return gradient_weight, gradient_bias"
   ]
  },
  {
   "cell_type": "code",
   "execution_count": 122,
   "metadata": {
    "collapsed": true,
    "deletable": true,
    "editable": true
   },
   "outputs": [],
   "source": [
    "'''\n",
    "设置最大迭代数和学习速率，试试把学习速率调整到更大的值？\n",
    "'''\n",
    "max_iter = 10000\n",
    "learning_rate = 0.00003"
   ]
  },
  {
   "cell_type": "code",
   "execution_count": 123,
   "metadata": {
    "collapsed": false,
    "deletable": true,
    "editable": true
   },
   "outputs": [
    {
     "name": "stdout",
     "output_type": "stream",
     "text": [
      "2073610335976.8232\n",
      "2073609788400.3247\n",
      "2073609240984.2964\n",
      "2073608693728.692\n",
      "2073608146633.4648\n",
      "2073607599698.5664\n",
      "2073607052923.9512\n",
      "2073606506309.5713\n",
      "2073605959855.3804\n",
      "2073605413561.3308\n",
      "2073604867427.3765\n",
      "2073604321453.4695\n",
      "2073603775639.564\n",
      "2073603229985.6123\n",
      "2073602684491.5684\n",
      "2073602139157.3845\n",
      "2073601593983.0144\n",
      "2073601048968.4104\n",
      "2073600504113.5269\n",
      "2073599959418.316\n",
      "2073599414882.7312\n",
      "2073598870506.7263\n",
      "2073598326290.254\n",
      "2073597782233.268\n",
      "2073597238335.7207\n",
      "2073596694597.5664\n",
      "2073596151018.7576\n",
      "2073595607599.248\n",
      "2073595064338.9907\n",
      "2073594521237.9392\n",
      "2073593978296.0469\n",
      "2073593435513.267\n",
      "2073592892889.5527\n",
      "2073592350424.858\n",
      "2073591808119.1355\n",
      "2073591265972.3396\n",
      "2073590723984.4229\n",
      "2073590182155.3389\n",
      "2073589640485.0413\n",
      "2073589098973.4832\n",
      "2073588557620.619\n",
      "2073588016426.4011\n",
      "2073587475390.7837\n",
      "2073586934513.72\n",
      "2073586393795.1636\n",
      "2073585853235.0684\n",
      "2073585312833.3872\n",
      "2073584772590.0745\n",
      "2073584232505.0833\n",
      "2073583692578.3667\n",
      "2073583152809.88\n",
      "2073582613199.5747\n",
      "2073582073747.406\n",
      "2073581534453.3271\n",
      "2073580995317.2915\n",
      "2073580456339.2537\n",
      "2073579917519.1655\n",
      "2073579378856.983\n",
      "2073578840352.658\n",
      "2073578302006.1453\n",
      "2073577763817.3984\n",
      "2073577225786.3704\n",
      "2073576687913.016\n",
      "2073576150197.2893\n",
      "2073575612639.1428\n",
      "2073575075238.5312\n",
      "2073574537995.4084\n",
      "2073574000909.728\n",
      "2073573463981.4436\n",
      "2073572927210.5093\n",
      "2073572390596.8792\n",
      "2073571854140.5068\n",
      "2073571317841.3464\n",
      "2073570781699.3513\n",
      "2073570245714.4768\n",
      "2073569709886.6753\n",
      "2073569174215.9016\n",
      "2073568638702.1096\n",
      "2073568103345.2527\n",
      "2073567568145.286\n",
      "2073567033102.1628\n",
      "2073566498215.8372\n",
      "2073565963486.2632\n",
      "2073565428913.3953\n",
      "2073564894497.1868\n",
      "2073564360237.5923\n",
      "2073563826134.566\n",
      "2073563292188.062\n",
      "2073562758398.0344\n",
      "2073562224764.4368\n",
      "2073561691287.2244\n",
      "2073561157966.3503\n",
      "2073560624801.7693\n",
      "2073560091793.4353\n",
      "2073559558941.3027\n",
      "2073559026245.3257\n",
      "2073558493705.4587\n",
      "2073557961321.6555\n",
      "2073557429093.8708\n",
      "2073556897022.0588\n"
     ]
    }
   ],
   "source": [
    "'''\n",
    "开始学习\n",
    "'''\n",
    "for i in range(max_iter):\n",
    "    gw, gb = gradient(x, weight, bias, y)\n",
    "    weight -= gw * learning_rate\n",
    "    bias -= gb * learning_rate\n",
    "    if (i+1) % 100 == 0:\n",
    "        print(cost_function(x, weight, bias, y))"
   ]
  },
  {
   "cell_type": "code",
   "execution_count": null,
   "metadata": {
    "collapsed": true
   },
   "outputs": [],
   "source": []
  }
 ],
 "metadata": {
  "kernelspec": {
   "display_name": "Python 3",
   "language": "python",
   "name": "python3"
  },
  "language_info": {
   "codemirror_mode": {
    "name": "ipython",
    "version": 3
   },
   "file_extension": ".py",
   "mimetype": "text/x-python",
   "name": "python",
   "nbconvert_exporter": "python",
   "pygments_lexer": "ipython3",
   "version": "3.6.0"
  }
 },
 "nbformat": 4,
 "nbformat_minor": 1
}
